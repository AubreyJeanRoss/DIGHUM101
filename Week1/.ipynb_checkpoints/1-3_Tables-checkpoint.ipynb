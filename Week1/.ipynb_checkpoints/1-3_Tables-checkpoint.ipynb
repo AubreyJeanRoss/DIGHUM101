{
 "cells": [
  {
   "cell_type": "markdown",
   "metadata": {},
   "source": [
    "# Tables\n",
    "\n",
    "UC Berkeley has its own brand of Python called the [datascience library](http://datascience.readthedocs.io/en/v0.8.1/). This additional Python software library allows you to efficiently create, import, manipulate data in tabular form and then plot it. \n",
    "\n",
    "Since table and plotting functionalities do not exist within the base Python installation, we must import the `datascience` (for tables) and `matplotlib` (for plotting) add-on libraries. "
   ]
  },
  {
   "cell_type": "code",
   "execution_count": null,
   "metadata": {
    "collapsed": true
   },
   "outputs": [],
   "source": [
    "from datascience import *\n",
    "\n",
    "import matplotlib\n",
    "%matplotlib inline\n",
    "import matplotlib.pyplot as plots\n",
    "plots.style.use('seaborn-poster')"
   ]
  },
  {
   "cell_type": "markdown",
   "metadata": {},
   "source": [
    "Begin by defining a variable named `book`. Just like strings and lists, Tables also have methods you can call by typing a period and then pressing your tab key to view the list that pops up. \n",
    "\n",
    "Place your cursor after `Table.` in the cell below and press the tab key to see the many methods available for Tables:"
   ]
  },
  {
   "cell_type": "code",
   "execution_count": null,
   "metadata": {},
   "outputs": [],
   "source": [
    "Table."
   ]
  },
  {
   "cell_type": "markdown",
   "metadata": {},
   "source": [
    "Here, we call `Table().with_columns` in order to define our column names in quotation marks `\" \"` immediately follwed by lists in square brackets that contain the values. This is all nested inside a set of round parantheses `( )` and square brackets `[ ]`.  \n",
    "\n",
    "Notice that we do not need to call the `print` function, but try it and see what happens!"
   ]
  },
  {
   "cell_type": "code",
   "execution_count": null,
   "metadata": {
    "scrolled": false
   },
   "outputs": [],
   "source": [
    "book = Table().with_columns([\n",
    "    \"Chapter\", [1,2,3,4,5,6,7,8],\n",
    "    \"Length\", [4,13,21,44,56,36,21,12],\n",
    "    \"Setting\", [\"Paris\", \"Paris\", \"Tokyo\", \"Beijing\", \"New York\", \"Rome\", \"Paris\", \"Paris\"]\n",
    "])\n",
    "print(type(book))\n",
    "book"
   ]
  },
  {
   "cell_type": "markdown",
   "metadata": {},
   "source": [
    "# Columns\n",
    "\n",
    "Like strings and lists, we can also index values in a Table using the `.column` method:"
   ]
  },
  {
   "cell_type": "code",
   "execution_count": null,
   "metadata": {},
   "outputs": [],
   "source": [
    "# extract the first column by its index\n",
    "book.column(0)"
   ]
  },
  {
   "cell_type": "code",
   "execution_count": null,
   "metadata": {},
   "outputs": [],
   "source": [
    "# extract a single column by its name\n",
    "book.column(\"Chapter\")"
   ]
  },
  {
   "cell_type": "markdown",
   "metadata": {},
   "source": [
    "Or, you can simply use bracket notation:"
   ]
  },
  {
   "cell_type": "code",
   "execution_count": null,
   "metadata": {},
   "outputs": [],
   "source": [
    "book[0]"
   ]
  },
  {
   "cell_type": "code",
   "execution_count": null,
   "metadata": {},
   "outputs": [],
   "source": [
    "book[\"Length\"]"
   ]
  },
  {
   "cell_type": "markdown",
   "metadata": {},
   "source": [
    "Select multiple columns with `.select`"
   ]
  },
  {
   "cell_type": "code",
   "execution_count": null,
   "metadata": {},
   "outputs": [],
   "source": [
    "book.select(\"Chapter\", \"Length\")"
   ]
  },
  {
   "cell_type": "markdown",
   "metadata": {},
   "source": [
    "Count the number of columns with `.num_columns`"
   ]
  },
  {
   "cell_type": "code",
   "execution_count": null,
   "metadata": {},
   "outputs": [],
   "source": [
    "book.num_columns"
   ]
  },
  {
   "cell_type": "markdown",
   "metadata": {},
   "source": [
    "# Rows\n",
    "\n",
    "Count the number of rows with `.num_rows`"
   ]
  },
  {
   "cell_type": "code",
   "execution_count": null,
   "metadata": {},
   "outputs": [],
   "source": [
    "book.num_rows"
   ]
  },
  {
   "cell_type": "markdown",
   "metadata": {},
   "source": [
    "Extract single rows with `.row`"
   ]
  },
  {
   "cell_type": "code",
   "execution_count": null,
   "metadata": {},
   "outputs": [],
   "source": [
    "book.row(4)"
   ]
  },
  {
   "cell_type": "markdown",
   "metadata": {},
   "source": [
    "`.take` will extract rows as well"
   ]
  },
  {
   "cell_type": "code",
   "execution_count": null,
   "metadata": {},
   "outputs": [],
   "source": [
    "book.take[0]"
   ]
  },
  {
   "cell_type": "markdown",
   "metadata": {},
   "source": [
    "`.where` will extract rows based on certain conditions. Let's select rows that are only equal to 21 pages:"
   ]
  },
  {
   "cell_type": "code",
   "execution_count": null,
   "metadata": {},
   "outputs": [],
   "source": [
    "book.where(\"Length\", are.equal_to(21))"
   ]
  },
  {
   "cell_type": "markdown",
   "metadata": {},
   "source": [
    "# Adding new columns\n",
    "\n",
    "Suppose that we know there are exactly 250 words per page in our `book`. We can even add a column that multiplies the number of pages in each chapter by 250 to produce the number of words per chapter. \n",
    "\n",
    "Let's create a new table named `book_words` so that we do not alter our original `book` table:"
   ]
  },
  {
   "cell_type": "code",
   "execution_count": null,
   "metadata": {},
   "outputs": [],
   "source": [
    "book_words = book.with_column(\"Words per chapter\", book[\"Length\"] * 250)\n",
    "book_words"
   ]
  },
  {
   "cell_type": "markdown",
   "metadata": {},
   "source": [
    "We can now ask questions such as:\n",
    "1. How many chapters are in the book?  \n",
    "2. How many pages are in the book?  \n",
    "3. How many words are in the book?  "
   ]
  },
  {
   "cell_type": "code",
   "execution_count": null,
   "metadata": {},
   "outputs": [],
   "source": [
    "print(\"There are\", book_words.num_rows, \"chapters in the book.\")\n",
    "print(\"The number of pages in the book is:\", sum(book_words[1]))\n",
    "print(sum(book_words[\"Words per chapter\"]), \"is the number of words in the book.\")"
   ]
  },
  {
   "cell_type": "markdown",
   "metadata": {},
   "source": [
    "# Relabeling column names\n",
    "\n",
    "We can relabel column names using `.relabeled`"
   ]
  },
  {
   "cell_type": "code",
   "execution_count": null,
   "metadata": {},
   "outputs": [],
   "source": [
    "book_words.relabeled(\"Setting\", \"SETTING\")"
   ]
  },
  {
   "cell_type": "markdown",
   "metadata": {},
   "source": [
    "# Sorting data\n",
    "\n",
    "Use the `.sort` method to sort your data! Include the optional argument `descenging = ` to sort it in descending or ascending order. "
   ]
  },
  {
   "cell_type": "code",
   "execution_count": null,
   "metadata": {},
   "outputs": [],
   "source": [
    "book.sort(\"Length\", descending=True)"
   ]
  },
  {
   "cell_type": "markdown",
   "metadata": {},
   "source": [
    "# Frequency tables\n",
    "\n",
    "Use the `.group` method to create frequency tables. "
   ]
  },
  {
   "cell_type": "code",
   "execution_count": null,
   "metadata": {},
   "outputs": [],
   "source": [
    "book.group(\"Setting\")"
   ]
  },
  {
   "cell_type": "markdown",
   "metadata": {},
   "source": [
    "You can also use `.pivot` to create pivot tables."
   ]
  },
  {
   "cell_type": "code",
   "execution_count": null,
   "metadata": {},
   "outputs": [],
   "source": [
    "book_words.pivot(\"Setting\", \"Words per chapter\")"
   ]
  },
  {
   "cell_type": "markdown",
   "metadata": {},
   "source": [
    "# Challenge 1\n",
    "\n",
    "1. Create a table that has 3 columns and 8 rows. \n",
    "2. Which Table methods might you use to verify that your Table has 3 columns and 8 rows?\n",
    "3. What methods can you use to extract columns? To extract rows?\n",
    "4. Add a new, fourth column to your table! \n",
    "5. Subset this table to include only two columns. "
   ]
  },
  {
   "cell_type": "code",
   "execution_count": null,
   "metadata": {
    "collapsed": true
   },
   "outputs": [],
   "source": [
    "## YOUR CODE HERE"
   ]
  },
  {
   "cell_type": "markdown",
   "metadata": {},
   "source": [
    "# Visualizing your data\n",
    "\n",
    "We will begin by using the `matplotlib` Python library to plot data from our `datascience` Tables. \n",
    "\n",
    "`plots.style.available` will give you a list of stock options to customize your plots. Scroll back up top to the second cell and see we are using 'seaborn-poster' due to its classic look."
   ]
  },
  {
   "cell_type": "code",
   "execution_count": null,
   "metadata": {},
   "outputs": [],
   "source": [
    "plots.style.available"
   ]
  },
  {
   "cell_type": "markdown",
   "metadata": {},
   "source": [
    "# Histogram\n",
    "\n",
    "We can plot one numeric variable using a histogram to view its distribution using `.hist`\n",
    "\n",
    "We might ask the question: what does the proportion of pages per chapter look like throughout the book?"
   ]
  },
  {
   "cell_type": "code",
   "execution_count": null,
   "metadata": {},
   "outputs": [],
   "source": [
    "book_words.hist(\"Length\")"
   ]
  },
  {
   "cell_type": "markdown",
   "metadata": {},
   "source": [
    "Change the number of bins and using the `bins = range()` argument. Change the plot height and width using the `height =` and `width =` arguments:"
   ]
  },
  {
   "cell_type": "code",
   "execution_count": null,
   "metadata": {},
   "outputs": [],
   "source": [
    "book.hist(\"Length\", bins = range(30,60), height = 2, width=2)"
   ]
  },
  {
   "cell_type": "markdown",
   "metadata": {},
   "source": [
    "# Bar plot\n",
    "\n",
    "We can also use bar plots to visualize two variables using `.bar` and `.barh`\n",
    "\n",
    "We might ask a question such as: how can we visualize the length of each chapter relative to the other chapters?"
   ]
  },
  {
   "cell_type": "code",
   "execution_count": null,
   "metadata": {},
   "outputs": [],
   "source": [
    "book_words.bar(\"Chapter\", \"Length\")"
   ]
  },
  {
   "cell_type": "code",
   "execution_count": null,
   "metadata": {},
   "outputs": [],
   "source": [
    "book.barh(\"Chapter\", \"Length\")"
   ]
  },
  {
   "cell_type": "markdown",
   "metadata": {},
   "source": [
    "# Scatter plot\n",
    "\n",
    "Scatterplots are useful when we want to visualize two numeric variables. \n",
    "\n",
    "Ask a question such as: what is the relationship between number of pages in each chapter (\"Length\") and the number of words per chapter (\"Words per chapter\"). \n",
    "\n",
    "Why is this relationship positive linear? (hint: think back to the relationship of the number of words per page and chapter length!)"
   ]
  },
  {
   "cell_type": "code",
   "execution_count": null,
   "metadata": {},
   "outputs": [],
   "source": [
    "book_words.scatter(\"Length\", \"Words per chapter\", fit_line=False)"
   ]
  },
  {
   "cell_type": "markdown",
   "metadata": {},
   "source": [
    "# Boxplot\n",
    "\n",
    "Boxplots are useful when we want to visualize the distribution of a variable. \n",
    "\n",
    "For example, we might want to see how \"Words per chapter\" are distributed.\n",
    "\n",
    "**NOTE**: look at how we are now using _two_ periods (methods) within a single line of code: \n",
    "1. `select` - to select the column we want to plot, and\n",
    "2. `boxplot` - the way we want to visualize our data!"
   ]
  },
  {
   "cell_type": "code",
   "execution_count": null,
   "metadata": {},
   "outputs": [],
   "source": [
    "book_words.select(\"Words per chapter\").boxplot()"
   ]
  },
  {
   "cell_type": "markdown",
   "metadata": {},
   "source": [
    "# Line plot\n",
    "\n",
    "Line plots can help us in cases such as looking at change over time. \n",
    "\n",
    "We might ask: how does the number of words per chapter change from 1-8?"
   ]
  },
  {
   "cell_type": "code",
   "execution_count": null,
   "metadata": {},
   "outputs": [],
   "source": [
    "book_words.select(\"Chapter\", \"Words per chapter\").plot(\"Chapter\",\"Words per chapter\")"
   ]
  },
  {
   "cell_type": "markdown",
   "metadata": {},
   "source": [
    "# Importing .csv files\n",
    "\n",
    "Comma-separated values (.csv) files are a common way to store data and they look like a basic spreadsheet. Although great for teaching exercises, in real life research we never fabricate data. \n",
    "\n",
    "Instead, we design collection protocols and record data in spreadsheets, but then we need a way to import it into Python so we can do the manipulations you have learned so far. \n",
    "\n",
    "Fortunately, `datascience` Tables have a neat `.read_table()` function that allows us to load data from files."
   ]
  },
  {
   "cell_type": "code",
   "execution_count": null,
   "metadata": {},
   "outputs": [],
   "source": [
    "#load the \"iris\" .csv file\n",
    "iris = Table.read_table(\"iris.csv\")\n",
    "print(type(iris))\n",
    "iris"
   ]
  },
  {
   "cell_type": "markdown",
   "metadata": {},
   "source": [
    "# Challenge 2\n",
    "\n",
    "Using the iris dataset and your help files:  \n",
    "1. Create a frequency table that shows how many observations (rows) there are of each species.  \n",
    "2. Define a new variable called `large_petal_lengths` that are greater than or equal to 4.6.\n",
    "3. Define a new variable names `setosa` that contains only setosa species from the Species column. \n",
    "4. Create a new column in `iris` named Petal_Area that contains the product of Petal_Length and Petal_Width.\n",
    "5. Create overlaid histograms for \"Petal_Length\" for each of the three species. \n",
    "6. Make boxplots for \"Petal_Length\", \"Petal_Width\", \"Sepal_Length\", and \"Sepal_Width\" columns. \n",
    "7. Create a scatterplot of `iris` Petal_Length versus Petal_Width. Color each point of this scatterplot according to \"Species\".\n",
    "8. What can you say about the relationship between Petal_Length and Petal_Width for the three species?"
   ]
  }
 ],
 "metadata": {
  "kernelspec": {
   "display_name": "Python 3",
   "language": "python",
   "name": "python3"
  },
  "language_info": {
   "codemirror_mode": {
    "name": "ipython",
    "version": 3
   },
   "file_extension": ".py",
   "mimetype": "text/x-python",
   "name": "python",
   "nbconvert_exporter": "python",
   "pygments_lexer": "ipython3",
   "version": "3.6.3"
  }
 },
 "nbformat": 4,
 "nbformat_minor": 2
}
