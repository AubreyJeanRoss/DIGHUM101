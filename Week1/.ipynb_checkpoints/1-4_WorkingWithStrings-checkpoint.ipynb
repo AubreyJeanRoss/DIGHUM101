{
 "cells": [
  {
   "cell_type": "markdown",
   "metadata": {},
   "source": [
    "# A more in-depth look at strings"
   ]
  },
  {
   "cell_type": "markdown",
   "metadata": {},
   "source": [
    "Strings have some simple but powerful methods that allow us to begin working with text. "
   ]
  },
  {
   "cell_type": "code",
   "execution_count": null,
   "metadata": {
    "collapsed": true
   },
   "outputs": [],
   "source": []
  },
  {
   "cell_type": "code",
   "execution_count": null,
   "metadata": {
    "collapsed": true
   },
   "outputs": [],
   "source": [
    "# STRINGS\n",
    "# STRINGS\n",
    "# Strings go here first\n",
    "\n",
    "\n",
    "CHALLENGE: store your first name in a variable named first name\n",
    "\n",
    "store your last name in a variable named last name\n",
    "\n",
    "Add them together in a variable named full name\n",
    "\n",
    "Make your name all uppercase\n",
    "\n",
    "Subset out just your first name\n",
    "\n",
    "Subset out just your last name\n",
    "\n"
   ]
  },
  {
   "cell_type": "code",
   "execution_count": null,
   "metadata": {
    "collapsed": true
   },
   "outputs": [],
   "source": [
    "Strings have methods! "
   ]
  },
  {
   "cell_type": "code",
   "execution_count": null,
   "metadata": {
    "collapsed": true
   },
   "outputs": [],
   "source": [
    "Name.upper()"
   ]
  },
  {
   "cell_type": "code",
   "execution_count": null,
   "metadata": {
    "collapsed": true
   },
   "outputs": [],
   "source": [
    "Name.lower()"
   ]
  },
  {
   "cell_type": "code",
   "execution_count": null,
   "metadata": {
    "collapsed": true
   },
   "outputs": [],
   "source": [
    "Note that strings can be added and multiplied! Adding them concatenates them:"
   ]
  },
  {
   "cell_type": "code",
   "execution_count": null,
   "metadata": {
    "collapsed": true
   },
   "outputs": [],
   "source": [
    "full_name = Name + \" \" + \"lastname\"\n",
    "print(full_name)"
   ]
  },
  {
   "cell_type": "code",
   "execution_count": null,
   "metadata": {
    "collapsed": true
   },
   "outputs": [],
   "source": [
    "...while multiplying a string replicates it:"
   ]
  },
  {
   "cell_type": "code",
   "execution_count": null,
   "metadata": {
    "collapsed": true
   },
   "outputs": [],
   "source": [
    "separator = \"$%^  \" * 50\n",
    "print(separator)"
   ]
  },
  {
   "cell_type": "code",
   "execution_count": null,
   "metadata": {
    "collapsed": true
   },
   "outputs": [],
   "source": [
    "Strings also have a length (but numbers don't):"
   ]
  },
  {
   "cell_type": "code",
   "execution_count": null,
   "metadata": {
    "collapsed": true
   },
   "outputs": [],
   "source": [
    "print(full_name)\n",
    "print(len(full_name))"
   ]
  },
  {
   "cell_type": "code",
   "execution_count": null,
   "metadata": {
    "collapsed": true
   },
   "outputs": [],
   "source": [
    "print(len(47))"
   ]
  },
  {
   "cell_type": "code",
   "execution_count": null,
   "metadata": {
    "collapsed": true
   },
   "outputs": [],
   "source": []
  },
  {
   "cell_type": "code",
   "execution_count": null,
   "metadata": {
    "collapsed": true
   },
   "outputs": [],
   "source": []
  },
  {
   "cell_type": "markdown",
   "metadata": {
    "collapsed": true
   },
   "source": [
    "Below is a string of [Jorge Luis Borges'](https://en.wikipedia.org/wiki/Jorge_Luis_Borges) \"On His Blindness\":"
   ]
  },
  {
   "cell_type": "code",
   "execution_count": 7,
   "metadata": {
    "collapsed": true
   },
   "outputs": [],
   "source": [
    "borges = \"\"\"In the fullness of the years, like it or not,\n",
    "a luminous mist surrounds me, unvarying, \n",
    "that breaks things down into a single thing,\n",
    "colorless, formless. Almost into a thought. \n",
    "The elemental, vast night and the day\n",
    "teeming with people have become that fog\n",
    "of constant, tentative light that does not flag,\n",
    "and lies in wait at dawn. I longed to see\n",
    "just once a human face. Unknown to me\n",
    "the closed encyclopedia, the sweet play\n",
    "in volumes I can do no more than hold, \n",
    "the tiny soaring birds, the moons of gold.\n",
    "Others have the world, for better or worse; \n",
    "I have this half-dark, and the toil of verse.\"\"\""
   ]
  },
  {
   "cell_type": "code",
   "execution_count": 9,
   "metadata": {},
   "outputs": [
    {
     "name": "stdout",
     "output_type": "stream",
     "text": [
      "In the fullness of the years, like it or not,\n",
      "a luminous mist surrounds me, unvarying, \n",
      "that breaks things down into a single thing,\n",
      "colorless, formless. Almost into a thought. \n",
      "The elemental, vast night and the day\n",
      "teeming with people have become that fog\n",
      "of constant, tentative light that does not flag,\n",
      "and lies in wait at dawn. I longed to see\n",
      "just once a human face. Unknown to me\n",
      "the closed encyclopedia, the sweet play\n",
      "in volumes I can do no more than hold, \n",
      "the tiny soaring birds, the moons of gold.\n",
      "Others have the world, for better or worse; \n",
      "I have this half-dark, and the toil of verse.\n"
     ]
    }
   ],
   "source": [
    "print(borges)"
   ]
  },
  {
   "cell_type": "code",
   "execution_count": null,
   "metadata": {
    "collapsed": true
   },
   "outputs": [],
   "source": []
  },
  {
   "cell_type": "code",
   "execution_count": null,
   "metadata": {
    "collapsed": true
   },
   "outputs": [],
   "source": []
  },
  {
   "cell_type": "markdown",
   "metadata": {
    "collapsed": true
   },
   "source": [
    "We can also open data from files. Let's open up the \"poe.txt\" file from the materials you downloaded earlier. This contains the poem \"A Dream Within a Dream\" by Edgar Allen Poe. "
   ]
  },
  {
   "cell_type": "code",
   "execution_count": 40,
   "metadata": {},
   "outputs": [
    {
     "name": "stdout",
     "output_type": "stream",
     "text": [
      "Take this kiss upon the brow!\n",
      "And, in parting from you now,\n",
      "Thus much let me avow —\n",
      "You are not wrong, who deem\n",
      "That my days have been a dream;\n",
      "Yet if hope has flown away\n",
      "In a night, or in a day,\n",
      "In a vision, or in none,\n",
      "Is it therefore the less gone?  \n",
      "All that we see or seem\n",
      "Is but a dream within a dream.\n",
      "\n",
      "I stand amid the roar\n",
      "Of a surf-tormented shore,\n",
      "And I hold within my hand\n",
      "Grains of the golden sand —\n",
      "How few! yet how they creep\n",
      "Through my fingers to the deep,\n",
      "While I weep — while I weep!\n",
      "O God! Can I not grasp \n",
      "Them with a tighter clasp?\n",
      "O God! can I not save\n",
      "One from the pitiless wave?\n",
      "Is all that we see or seem\n",
      "But a dream within a dream?\n",
      "\n"
     ]
    }
   ],
   "source": [
    "poe = open(\"./poe.txt\", \"r\")\n",
    "text = poe.read()\n",
    "poe.close()\n",
    "\n",
    "print(text)"
   ]
  },
  {
   "cell_type": "code",
   "execution_count": null,
   "metadata": {
    "collapsed": true
   },
   "outputs": [],
   "source": []
  },
  {
   "cell_type": "code",
   "execution_count": null,
   "metadata": {
    "collapsed": true
   },
   "outputs": [],
   "source": [
    "COUNT VEC"
   ]
  },
  {
   "cell_type": "code",
   "execution_count": null,
   "metadata": {
    "collapsed": true
   },
   "outputs": [],
   "source": [
    "TFIDF VEC"
   ]
  }
 ],
 "metadata": {
  "kernelspec": {
   "display_name": "Python 3",
   "language": "python",
   "name": "python3"
  },
  "language_info": {
   "codemirror_mode": {
    "name": "ipython",
    "version": 3
   },
   "file_extension": ".py",
   "mimetype": "text/x-python",
   "name": "python",
   "nbconvert_exporter": "python",
   "pygments_lexer": "ipython3",
   "version": "3.6.3"
  }
 },
 "nbformat": 4,
 "nbformat_minor": 2
}
