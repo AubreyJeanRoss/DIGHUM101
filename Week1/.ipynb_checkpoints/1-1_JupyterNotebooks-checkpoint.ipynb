{
 "cells": [
  {
   "cell_type": "markdown",
   "metadata": {},
   "source": [
    "![dhlogo](img/dhlogo.png)"
   ]
  },
  {
   "cell_type": "markdown",
   "metadata": {},
   "source": [
    "![summer](img/dhsummer.png)"
   ]
  },
  {
   "cell_type": "markdown",
   "metadata": {},
   "source": [
    "# Welcome to DIGHUM 101!\n",
    "\n",
    "This class is part of the [Digital Humanities at Berkeley Summer Minor for summer 2018](https://summerdigitalhumanities.berkeley.edu/). \n",
    "\n",
    "\n",
    "Click [here to learn more about the Digital Humanities at Berkeley](http://dh.berkeley.edu/) "
   ]
  },
  {
   "cell_type": "markdown",
   "metadata": {},
   "source": [
    "# bCourses\n",
    "Remember to check the bCourses site often as it contains the syllabus, important announcements, and your grades: https://bcourses.berkeley.edu/courses/1471785\n",
    "\n",
    "\n",
    "- Introductions\n",
    "\n",
    "    1) What is your name?  \n",
    "    2) What is your major?  \n",
    "    3) Why did you enroll in this course?  \n",
    "    4) What do you hope to learn?  \n",
    "    \n",
    "    \n",
    "- Review the syllabus together and sign the agreement"
   ]
  },
  {
   "cell_type": "markdown",
   "metadata": {},
   "source": [
    "# Download and install Python\n",
    "Download Python 3.6 Anaconda distribution [here](https://www.anaconda.com/download/#macos)\n",
    "\n",
    "1. Click your operating system icon: Windows, Mac, or Linux.\n",
    "\n",
    "2. Make sure you click the green button that says **\"Python 3.6 version\".**\n",
    "\n",
    "3. Click **\"64-Bit Graphical Installer\"** and follow the installation instructions.\n",
    "\n",
    "**NOTE:** Windows users be sure to also install [GitBash](https://git-scm.com/downloads)."
   ]
  },
  {
   "cell_type": "markdown",
   "metadata": {},
   "source": [
    "# Download the DIGHUM101 GitHub repository\n",
    "Click [here](https://github.com/dlab-berkeley/DIGHUM101) to download the course GitHub repository. This contains the Python Jupyter Notebooks that we will use for the next six weeks. \n",
    "\n",
    "- Click the green \"Clone or download\" button on the right hand side of the page\n",
    "\n",
    "- Click \"Download zip\"\n",
    "\n",
    "- Extract the files and copy them to your **desktop**\n",
    "\n",
    "**NOTE:** you will learn how to stage, commit, and push and pull code and other materials to and from GitHub using the Terminal (GitBash for Windows users) in Week 2! "
   ]
  },
  {
   "cell_type": "markdown",
   "metadata": {},
   "source": [
    "# What is programming?\n",
    "- Why bother?\n",
    "\n",
    "- How to begin to think like a programmer?\n",
    "\n",
    "- What does it mean for the humanities?"
   ]
  },
  {
   "cell_type": "markdown",
   "metadata": {},
   "source": [
    "# Let's begin!\n",
    "\n",
    "- First, make sure you have downloaded Python 3.6 Anaconda and the GitHub repository.  \n",
    "\n",
    "- Then, open your Anaconda-Navigator. You should see a screenshot like this: "
   ]
  },
  {
   "cell_type": "markdown",
   "metadata": {},
   "source": [
    "![anaconda-navigator](img/anaconda-navigator.png)"
   ]
  },
  {
   "cell_type": "markdown",
   "metadata": {},
   "source": [
    "- Click \"Launch\" under Jupyter Notebook.\n",
    "\n",
    "- Finally, open the DIGHUM101 folder, open the Week1 folder, and then click the file named `1-1JupyterNotebooks.ipynb`"
   ]
  },
  {
   "cell_type": "markdown",
   "metadata": {},
   "source": [
    "# Navigating [Jupyter Notebooks](http://jupyter-notebook-beginner-guide.readthedocs.io/en/latest/what_is_jupyter.html)\n",
    "\n",
    "### Code versus markdown\n",
    "This is the environment that we will use to program in Python. You enter code in cells that for the beginner take one of two forms: **Code** and **Markdown**. New cells will by default be Code cells.\n",
    "\n",
    "This cell is **Markdown**. It allows you to describe the code and results you are presenting in your notebook, in addition to adding: \n",
    "- images\n",
    "- hyperlinks\n",
    "- lists\n",
    "- widgets\n",
    "- etc.\n",
    "\n",
    "Choose between the two formats by using the drop-down menu above. "
   ]
  },
  {
   "cell_type": "markdown",
   "metadata": {},
   "source": [
    "Below is a cell of executable **Code** that uses Python's built-in `print` function to simply print out the words inside of the quotations. \n",
    "\n",
    "Press Shift + Enter to run the cell:"
   ]
  },
  {
   "cell_type": "code",
   "execution_count": 4,
   "metadata": {
    "scrolled": true
   },
   "outputs": [
    {
     "name": "stdout",
     "output_type": "stream",
     "text": [
      "Welcome to DIGHUM101!\n"
     ]
    }
   ],
   "source": [
    "# click here and press Shift + Enter\n",
    "print(\"Welcome to DIGHUM101!\")"
   ]
  },
  {
   "cell_type": "markdown",
   "metadata": {},
   "source": [
    "### Commenting your code\n",
    "Note the use of the hashtag `#` in the cell above. This gives you a way to \"comment your code\" and allows you to write helpful notes to yourself or your collaborators about nuances that are directly related to the code itself."
   ]
  },
  {
   "cell_type": "code",
   "execution_count": 5,
   "metadata": {},
   "outputs": [
    {
     "ename": "SyntaxError",
     "evalue": "invalid syntax (<ipython-input-5-31f4b68b69f1>, line 2)",
     "output_type": "error",
     "traceback": [
      "\u001b[0;36m  File \u001b[0;32m\"<ipython-input-5-31f4b68b69f1>\"\u001b[0;36m, line \u001b[0;32m2\u001b[0m\n\u001b[0;31m    print(Welcome to Barrows Hall.)\u001b[0m\n\u001b[0m                   ^\u001b[0m\n\u001b[0;31mSyntaxError\u001b[0m\u001b[0;31m:\u001b[0m invalid syntax\n"
     ]
    }
   ],
   "source": [
    "# What did I forget here?\n",
    "print(Welcome to Barrows Hall.)"
   ]
  },
  {
   "cell_type": "markdown",
   "metadata": {},
   "source": [
    "We will talk in greater depth about the characteristics of different data types in Python, but for now you should remember that string data (aka text or character data) are always wrapped in quotations! "
   ]
  },
  {
   "cell_type": "markdown",
   "metadata": {},
   "source": [
    "### Errors\n",
    "\n",
    "Error messages are sometimes very useful and other times are magnificently cryptic - but to the beginner they are virtually always frustrating. We will spend time throughout this course discussing error messages and how to fix them - just know that if you are getting super frustrated you are doing it right - this happens to us all! "
   ]
  },
  {
   "cell_type": "markdown",
   "metadata": {},
   "source": [
    "# Saving variables\n",
    "\n",
    "You will frequently need to save data in Python. You can do so by saving it in a variable! \n",
    "\n",
    "Remember to give your variables meaningful names and assign them definitions using the equals sign `=`. We will use variable assignment throughout the rest of this course. \n",
    "\n",
    "For now, follow this three piece recipe for variable definition:\n",
    "1. The variable name goes on the LEFT SIDE\n",
    "2. The \"equals sign\" `=` goes in the MIDDLE\n",
    "3. The variable definition goes on the RIGHT SIDE"
   ]
  },
  {
   "cell_type": "code",
   "execution_count": 6,
   "metadata": {
    "collapsed": true
   },
   "outputs": [],
   "source": [
    "# For example: \n",
    "welcome_statement = \"Welcome to Barrows Hall :)\""
   ]
  },
  {
   "cell_type": "markdown",
   "metadata": {},
   "source": [
    "or"
   ]
  },
  {
   "cell_type": "markdown",
   "metadata": {},
   "source": [
    "# Save numbers as variables! \n",
    "\n",
    "Just like you have seen with string data, we can save numbers as variables as well. Numbers are essential to programming, and Python is a very powerful calculator."
   ]
  },
  {
   "cell_type": "markdown",
   "metadata": {},
   "source": [
    "# Expressions\n",
    "Expressions are combinations of one (or more) variables, values, operators, functions, arguments, and data that a computer language interprets for the purpose of returning some sort of output. These can involve numbers, strings, lists, tuples, and dictionaries. \n",
    "\n",
    "Try some simple math:"
   ]
  },
  {
   "cell_type": "code",
   "execution_count": 7,
   "metadata": {},
   "outputs": [
    {
     "name": "stdout",
     "output_type": "stream",
     "text": [
      "9\n"
     ]
    }
   ],
   "source": [
    "# addition\n",
    "a = 7 + 2\n",
    "print(a)"
   ]
  },
  {
   "cell_type": "code",
   "execution_count": 8,
   "metadata": {},
   "outputs": [
    {
     "name": "stdout",
     "output_type": "stream",
     "text": [
      "5\n"
     ]
    }
   ],
   "source": [
    "# subtraction\n",
    "b = 7 - 2\n",
    "print(b)"
   ]
  },
  {
   "cell_type": "code",
   "execution_count": 9,
   "metadata": {},
   "outputs": [
    {
     "name": "stdout",
     "output_type": "stream",
     "text": [
      "14\n"
     ]
    }
   ],
   "source": [
    "# multiplication\n",
    "c = 7 * 2\n",
    "print(c)"
   ]
  },
  {
   "cell_type": "code",
   "execution_count": 10,
   "metadata": {},
   "outputs": [
    {
     "name": "stdout",
     "output_type": "stream",
     "text": [
      "3.5\n"
     ]
    }
   ],
   "source": [
    "# long division\n",
    "d = 7 / 2\n",
    "print(d)"
   ]
  },
  {
   "cell_type": "code",
   "execution_count": 11,
   "metadata": {},
   "outputs": [
    {
     "name": "stdout",
     "output_type": "stream",
     "text": [
      "3\n"
     ]
    }
   ],
   "source": [
    "# integer division\n",
    "e = 7 // 2\n",
    "print(e)"
   ]
  },
  {
   "cell_type": "code",
   "execution_count": 12,
   "metadata": {},
   "outputs": [
    {
     "name": "stdout",
     "output_type": "stream",
     "text": [
      "1\n"
     ]
    }
   ],
   "source": [
    "# modulus division \n",
    "f = 7 % 2\n",
    "print(f)"
   ]
  },
  {
   "cell_type": "code",
   "execution_count": 13,
   "metadata": {},
   "outputs": [
    {
     "name": "stdout",
     "output_type": "stream",
     "text": [
      "(3, 1)\n"
     ]
    }
   ],
   "source": [
    "# division to return quotient plus remainder\n",
    "g = divmod(7,2)\n",
    "print(g)"
   ]
  },
  {
   "cell_type": "code",
   "execution_count": 14,
   "metadata": {},
   "outputs": [
    {
     "name": "stdout",
     "output_type": "stream",
     "text": [
      "3.7142857142857144\n"
     ]
    }
   ],
   "source": [
    "h = (a * b / c + d - e)\n",
    "print(h)"
   ]
  },
  {
   "cell_type": "code",
   "execution_count": 15,
   "metadata": {},
   "outputs": [
    {
     "name": "stdout",
     "output_type": "stream",
     "text": [
      "3.7142857142857144\n"
     ]
    }
   ],
   "source": [
    "h2 = (9 * 5 / 14 + 3.5 - 3)\n",
    "print(h2)"
   ]
  },
  {
   "cell_type": "markdown",
   "metadata": {},
   "source": [
    "# Challenge 1\n",
    "1) Our variable `welcome_statement` has been saved! However, we only told Python to save it - how do you think we get it to \"print\"?  \n",
    "2) What do you think will happen if you give `welcome_statement` a new definition?  \n",
    "3) Why are unique naming systems essential to programming?  \n",
    "4) Do you think Python is case sensitive? Why or why not?"
   ]
  },
  {
   "cell_type": "code",
   "execution_count": 16,
   "metadata": {
    "collapsed": true
   },
   "outputs": [],
   "source": [
    "## YOUR CODE HERE"
   ]
  },
  {
   "cell_type": "markdown",
   "metadata": {
    "collapsed": true
   },
   "source": [
    "### Functions and arguments\n",
    "\n",
    "Generally speaking, programming languages give instructions to a computer to store, process, and/or retrieve information. \n",
    "\n",
    "These instructions revolve around **actions** and **things**:\n",
    "\n",
    "- **Actions** are operations you tell the computer to perform, such as create, copy, delete, print, etc.\n",
    "- **Things** are the items that you refer to such as numbers, names, and data.\n",
    "\n",
    "More formally speaking, the commands we use to perform \"actions\" are called **functions** and the \"things\" we do actions to are called **arguments**. "
   ]
  },
  {
   "cell_type": "markdown",
   "metadata": {},
   "source": [
    "# Challenge 2\n",
    "1. In the functioning `print` statement above, what is the function and what is the argument?\n",
    "2. What happens if you just press the Enter key within a code cell? In a markdown cell?\n",
    "3. What happens if you press control + Enter within a code  cell? In a markdown cell?\n",
    "4. Each time you run a code cell, the number in the brackets in the left margin change. What do you think these numbers indicate?"
   ]
  },
  {
   "cell_type": "markdown",
   "metadata": {
    "collapsed": true
   },
   "source": [
    "### Tab completion\n",
    "\n",
    "Tab completion helps you shortcut your typing as Python will help you complete the names of functions as well as previously stored data. Place your cursor at the end of the line of the two cells below - what happens with each?"
   ]
  },
  {
   "cell_type": "code",
   "execution_count": 17,
   "metadata": {},
   "outputs": [
    {
     "ename": "NameError",
     "evalue": "name 'pri' is not defined",
     "output_type": "error",
     "traceback": [
      "\u001b[0;31m---------------------------------------------------------------------------\u001b[0m",
      "\u001b[0;31mNameError\u001b[0m                                 Traceback (most recent call last)",
      "\u001b[0;32m<ipython-input-17-33b0cf90c5e7>\u001b[0m in \u001b[0;36m<module>\u001b[0;34m()\u001b[0m\n\u001b[0;32m----> 1\u001b[0;31m \u001b[0mpri\u001b[0m\u001b[0;34m\u001b[0m\u001b[0m\n\u001b[0m",
      "\u001b[0;31mNameError\u001b[0m: name 'pri' is not defined"
     ]
    }
   ],
   "source": [
    "pri"
   ]
  },
  {
   "cell_type": "code",
   "execution_count": 18,
   "metadata": {},
   "outputs": [
    {
     "ename": "NameError",
     "evalue": "name 'pr' is not defined",
     "output_type": "error",
     "traceback": [
      "\u001b[0;31m---------------------------------------------------------------------------\u001b[0m",
      "\u001b[0;31mNameError\u001b[0m                                 Traceback (most recent call last)",
      "\u001b[0;32m<ipython-input-18-cf76be918791>\u001b[0m in \u001b[0;36m<module>\u001b[0;34m()\u001b[0m\n\u001b[0;32m----> 1\u001b[0;31m \u001b[0mpr\u001b[0m\u001b[0;34m\u001b[0m\u001b[0m\n\u001b[0m",
      "\u001b[0;31mNameError\u001b[0m: name 'pr' is not defined"
     ]
    }
   ],
   "source": [
    "pr"
   ]
  },
  {
   "cell_type": "markdown",
   "metadata": {},
   "source": [
    "### Adding and removing cells\n",
    "\n",
    "You can also add cells by clicking the **`+`** button or **Insert** from the menu above"
   ]
  },
  {
   "cell_type": "markdown",
   "metadata": {},
   "source": [
    "# Challenge 3\n",
    "\n",
    "Using the toolbar menu, how do you:\n",
    "- Add a few **Code** and **Markdown** cells in your notebook. Try switching between them- what happens?\n",
    "- Delete, cut, copy, and paste cells?\n",
    "- Split and merge cells?\n",
    "- Move cells up or down?\n",
    "- Insert an image?\n",
    "- Toggle line numbers?"
   ]
  },
  {
   "cell_type": "markdown",
   "metadata": {},
   "source": [
    "### Major parts of a computer operating system\n",
    "\n",
    "Generally speaking, there are three major parts to a (Unix) computer's operating system:\n",
    "\n",
    "1) **Kernel** - the taskmaster of a computer that handles time and memory allocations for different programs and the file system and the computer's internal communications.  \n",
    "\n",
    "2) **Shell** - an interface between us (humans) and the kernel - if we interacted directly with the kernel there is a good chance we would break it! \n",
    "\n",
    "3) **File system** - files are stored in directors (folders) in an inverted tree-like structured (the root is at the top) - more on this in Week 2! "
   ]
  },
  {
   "cell_type": "markdown",
   "metadata": {},
   "source": [
    "The kernel is important because it will sometimes crash in a Jupyter Notebook. When this happens, click the **Kernel** menu in the toolbar to restart it. "
   ]
  },
  {
   "cell_type": "markdown",
   "metadata": {},
   "source": [
    "# Markdown\n",
    "\n",
    "Markdown is useful because you can format your text in ways to give life to your Jupyter Notebook. \n",
    "\n",
    "# Different sizes of hashtags  \n",
    "\n",
    "## will give you\n",
    "\n",
    "### different size headers!\n",
    "\n",
    "- Use hypens\n",
    "* or asterisks\n",
    "- to make fast lists\n",
    "\n",
    "\n",
    "1) Use numbers  \n",
    "2) to create  \n",
    "3) numbered lists\n",
    "\n",
    "Line breaks\n",
    "do not matter. \n",
    "\n",
    "Blank lines create new paragraphs!\n",
    "\n",
    "Wrap text in underscores to _italicize it_.  \n",
    "Wrap text in **double stars** to make it bold. \n",
    "\n",
    "[Create links](http://dh.berkeley.edu/) with [...](...)"
   ]
  },
  {
   "cell_type": "markdown",
   "metadata": {},
   "source": [
    "# Shortcuts\n",
    "\n",
    "Jupyter Notebooks has many handy shortcuts! Simply click in the left margin and press the `h` key on your keyboard.\n"
   ]
  },
  {
   "cell_type": "markdown",
   "metadata": {},
   "source": [
    "# History\n",
    "\n",
    "Use the `%history` built-in command to see all the commands you have run so far."
   ]
  },
  {
   "cell_type": "code",
   "execution_count": 19,
   "metadata": {},
   "outputs": [
    {
     "name": "stdout",
     "output_type": "stream",
     "text": [
      "# click here and press Shift + Enter\n",
      "print(\"Welcome to DIGHUM101!\")\n",
      "# What did I forget here?\n",
      "print(Welcome to Barrows Hall.)\n",
      "%who\n",
      "# click here and press Shift + Enter\n",
      "print(\"Welcome to DIGHUM101!\")\n",
      "# What did I forget here?\n",
      "print(Welcome to Barrows Hall.)\n",
      "# For example: \n",
      "welcome_statement = \"Welcome to Barrows Hall :)\"\n",
      "# addition\n",
      "a = 7 + 2\n",
      "print(a)\n",
      "# subtraction\n",
      "b = 7 - 2\n",
      "print(b)\n",
      "# multiplication\n",
      "c = 7 * 2\n",
      "print(c)\n",
      "# long division\n",
      "d = 7 / 2\n",
      "print(d)\n",
      "# integer division\n",
      "e = 7 // 2\n",
      "print(e)\n",
      "# modulus division \n",
      "f = 7 % 2\n",
      "print(f)\n",
      "# division to return quotient plus remainder\n",
      "g = divmod(7,2)\n",
      "print(g)\n",
      "h = (a * b / c + d - e)\n",
      "print(h)\n",
      "h2 = (9 * 5 / 14 + 3.5 - 3)\n",
      "print(h2)\n",
      "## YOUR CODE HERE\n",
      "pri\n",
      "pr\n",
      "%history\n"
     ]
    }
   ],
   "source": [
    "%history"
   ]
  },
  {
   "cell_type": "markdown",
   "metadata": {},
   "source": [
    "# Clearing the Jupyter Notebook"
   ]
  },
  {
   "cell_type": "markdown",
   "metadata": {},
   "source": [
    "Jupyter remembers everything you have saved/executed inside of it, **even if it is not currently displayed in the notebook!**"
   ]
  },
  {
   "cell_type": "markdown",
   "metadata": {},
   "source": [
    "Press **Kernel --> Restart** in the menu to clear all of your saved data. Now try printing `welcome_statement` - what happened?"
   ]
  },
  {
   "cell_type": "code",
   "execution_count": 20,
   "metadata": {},
   "outputs": [
    {
     "name": "stdout",
     "output_type": "stream",
     "text": [
      "Welcome to Barrows Hall :)\n"
     ]
    }
   ],
   "source": [
    "print(welcome_statement)\n",
    "\n",
    "# note: print displays values! "
   ]
  },
  {
   "cell_type": "markdown",
   "metadata": {
    "collapsed": true
   },
   "source": [
    "# Indenting\n",
    "\n",
    "Consistent indentation is essential in Python.\n",
    "\n",
    "To move multiple lines of code at once, you can select them and then hit `Control + ]` to indent them (move to the right), or `Control + [` to dedent them to the left.\n",
    "\n",
    "For Macs use `Command` in place of `Control`."
   ]
  },
  {
   "cell_type": "code",
   "execution_count": 21,
   "metadata": {
    "collapsed": true
   },
   "outputs": [],
   "source": [
    "move_me = 1\n",
    "move_me_too = \"abc\""
   ]
  },
  {
   "cell_type": "markdown",
   "metadata": {},
   "source": [
    "# Saving your work and exiting Jupyter\n",
    "\n",
    "When you close your Jupyter notebook window, all of your values will be lost. But you can save your code for a later time.\n",
    "\n",
    "First, click the save disk icon in the menu bar (or click **File --> Save and checkpoint**) - a timestamp checkpoint will pop-up.\n",
    "\n",
    "Then, go to **File --> Close and Halt** in order to shutdown the notebook correctly. Always do this for all notebooks you have open at a given time. "
   ]
  },
  {
   "cell_type": "markdown",
   "metadata": {},
   "source": [
    "# Challenge 4\n",
    "1. Clear this notebook again.  \n",
    "2. Save this notebook.  \n",
    "3. Close this notebook correctly. \n",
    "4. Open the notebook named `1-2_VariableAssignment_Types_Structures`"
   ]
  }
 ],
 "metadata": {
  "kernelspec": {
   "display_name": "Python 3",
   "language": "python",
   "name": "python3"
  },
  "language_info": {
   "codemirror_mode": {
    "name": "ipython",
    "version": 3
   },
   "file_extension": ".py",
   "mimetype": "text/x-python",
   "name": "python",
   "nbconvert_exporter": "python",
   "pygments_lexer": "ipython3",
   "version": "3.6.3"
  }
 },
 "nbformat": 4,
 "nbformat_minor": 2
}
