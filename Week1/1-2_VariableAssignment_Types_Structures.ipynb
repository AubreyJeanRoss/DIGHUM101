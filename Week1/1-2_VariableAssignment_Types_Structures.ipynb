{
 "cells": [
  {
   "cell_type": "markdown",
   "metadata": {},
   "source": [
    "# Variable assignment\n",
    "\n",
    "As briefly explained in the last notebook, you will often want to save data inside of variables. Variables are named data obects that allow you to save data inside of Python's memory. They are case sensitive and should ideally contain a brief description of their contents. They are case sensitive and should not begin with a number or a symbol.\n",
    "\n",
    "Names should be **unique**. If you reuse an old name, its definition will be overwritten! Keep in mind this three-piece recipe: \n",
    "\n",
    "* The **variable name** goes on the _LEFT SIDE_\n",
    "* The **equals sign** `=` goes in the _MIDDLE_\n",
    "* The variable's **definition** goes on the _RIGHT SIDE_\n",
    "\n",
    "**HINT**: You also learned that text data should always be wrapped in quotations (single? double?)\n",
    "\n",
    "We want to save data inside of variables in Python because we can then manipulate those variables to perform complex tasks!\n",
    "\n",
    "We also want to utilize a few built-in functions to figure out the data \n",
    "\n",
    "- The `pwd` function will show you the file pate to your working directory (more on this in Week2).  \n",
    "- `ls` returns the contents of your working directory.  \n",
    "- `del` deletes a single variable.  \n",
    "- `%who` will show you variables you have defined in your global environment."
   ]
  },
  {
   "cell_type": "code",
   "execution_count": 21,
   "metadata": {},
   "outputs": [
    {
     "data": {
      "text/plain": [
       "'/Users/evan.admin/Desktop/DIGHUM101-LOCAL-ONLY-May19/forbc/Week1'"
      ]
     },
     "execution_count": 21,
     "metadata": {},
     "output_type": "execute_result"
    }
   ],
   "source": [
    "pwd"
   ]
  },
  {
   "cell_type": "code",
   "execution_count": 22,
   "metadata": {
    "scrolled": true
   },
   "outputs": [
    {
     "name": "stdout",
     "output_type": "stream",
     "text": [
      "1-1_JupyterNotebooks.ipynb\r\n",
      "1-2_VariableAssignment_Types_Structures.ipynb\r\n",
      "1-3_WorkingWithStrings.ipynb\r\n",
      "1-4_datascienceTables.ipynb\r\n",
      "\u001b[34mimg\u001b[m\u001b[m/\r\n",
      "poe.txt\r\n"
     ]
    }
   ],
   "source": [
    "ls"
   ]
  },
  {
   "cell_type": "code",
   "execution_count": 23,
   "metadata": {},
   "outputs": [
    {
     "name": "stdout",
     "output_type": "stream",
     "text": [
      "my_list\t my_list2\t my_list3\t \n"
     ]
    }
   ],
   "source": [
    "# variables persist between cells and even between notebooks! \n",
    "%who"
   ]
  },
  {
   "cell_type": "code",
   "execution_count": 25,
   "metadata": {},
   "outputs": [
    {
     "ename": "NameError",
     "evalue": "name 'variable_name' is not defined",
     "output_type": "error",
     "traceback": [
      "\u001b[0;31m---------------------------------------------------------------------------\u001b[0m",
      "\u001b[0;31mNameError\u001b[0m                                 Traceback (most recent call last)",
      "\u001b[0;32m<ipython-input-25-8269db3c1aec>\u001b[0m in \u001b[0;36m<module>\u001b[0;34m()\u001b[0m\n\u001b[0;32m----> 1\u001b[0;31m \u001b[0;32mdel\u001b[0m\u001b[0;34m(\u001b[0m\u001b[0mvariable_name\u001b[0m\u001b[0;34m)\u001b[0m\u001b[0;34m\u001b[0m\u001b[0m\n\u001b[0m",
      "\u001b[0;31mNameError\u001b[0m: name 'variable_name' is not defined"
     ]
    }
   ],
   "source": [
    "del(variable_name)"
   ]
  },
  {
   "cell_type": "markdown",
   "metadata": {},
   "source": [
    "# Challenge 1\n",
    "1. Define a variable named Name that stores your name.  \n",
    "2. Define a variable named Age that stores your age.  \n",
    "3. Define a variable named City that stores your hometown.  "
   ]
  },
  {
   "cell_type": "code",
   "execution_count": 45,
   "metadata": {
    "collapsed": true
   },
   "outputs": [],
   "source": [
    "## YOUR CODE HERE"
   ]
  },
  {
   "cell_type": "code",
   "execution_count": 26,
   "metadata": {
    "collapsed": true
   },
   "outputs": [],
   "source": [
    "Name = \"Evan\"\n",
    "Age = 27\n",
    "City = \"Lansing\""
   ]
  },
  {
   "cell_type": "markdown",
   "metadata": {},
   "source": [
    "Read and run the cell below to see how we can combine different values in expressions:"
   ]
  },
  {
   "cell_type": "code",
   "execution_count": 31,
   "metadata": {},
   "outputs": [
    {
     "name": "stdout",
     "output_type": "stream",
     "text": [
      "Evan is 27 years old and is from  Lansing.\n"
     ]
    }
   ],
   "source": [
    "# 4. What is the function in the below line of code? How many arguments are there? (hint: they are separated by commas)\n",
    "print(Name, \"is\", Age, \"years old\", \"and is from \", City + \".\")"
   ]
  },
  {
   "cell_type": "code",
   "execution_count": 32,
   "metadata": {},
   "outputs": [
    {
     "ename": "NameError",
     "evalue": "name 'Samantha' is not defined",
     "output_type": "error",
     "traceback": [
      "\u001b[0;31m---------------------------------------------------------------------------\u001b[0m",
      "\u001b[0;31mNameError\u001b[0m                                 Traceback (most recent call last)",
      "\u001b[0;32m<ipython-input-32-db429de3c3d6>\u001b[0m in \u001b[0;36m<module>\u001b[0;34m()\u001b[0m\n\u001b[1;32m      2\u001b[0m \u001b[0;31m# hint: this is actually a super helpful error message!\u001b[0m\u001b[0;34m\u001b[0m\u001b[0;34m\u001b[0m\u001b[0m\n\u001b[1;32m      3\u001b[0m \u001b[0;31m# What is Samantha? Why is it \"not defined\"?\u001b[0m\u001b[0;34m\u001b[0m\u001b[0;34m\u001b[0m\u001b[0m\n\u001b[0;32m----> 4\u001b[0;31m \u001b[0mName\u001b[0m \u001b[0;34m=\u001b[0m \u001b[0mSamantha\u001b[0m\u001b[0;34m\u001b[0m\u001b[0m\n\u001b[0m",
      "\u001b[0;31mNameError\u001b[0m: name 'Samantha' is not defined"
     ]
    }
   ],
   "source": [
    "# 6. Why does the following line of code return an error message? \n",
    "# hint: this is actually a super helpful error message!\n",
    "# What is Samantha? Why is it \"not defined\"?\n",
    "Name = Samantha"
   ]
  },
  {
   "cell_type": "markdown",
   "metadata": {},
   "source": [
    "# Data types\n",
    "\n",
    "So far we have seen a few examples with floats, integers, strings, and logical types. The type of data is important because **types control what operations can be done on values**!\n",
    "\n",
    "We can use the `type` function to check the type/class of some data!"
   ]
  },
  {
   "cell_type": "code",
   "execution_count": 36,
   "metadata": {},
   "outputs": [
    {
     "data": {
      "text/plain": [
       "str"
      ]
     },
     "execution_count": 36,
     "metadata": {},
     "output_type": "execute_result"
    }
   ],
   "source": [
    "# string data (text/character)\n",
    "type(Name)"
   ]
  },
  {
   "cell_type": "markdown",
   "metadata": {},
   "source": [
    "We will discuss this more in the next notebook, but know that strings have methods that can be accessed by typing a period after the name of your string variable. \n",
    "\n",
    "Type Name. and then press the tab key so that the list of methods appears. What do you think \".upper()\" will do? Try it! "
   ]
  },
  {
   "cell_type": "code",
   "execution_count": 107,
   "metadata": {},
   "outputs": [
    {
     "ename": "SyntaxError",
     "evalue": "invalid syntax (<ipython-input-107-61c5b202a588>, line 1)",
     "output_type": "error",
     "traceback": [
      "\u001b[0;36m  File \u001b[0;32m\"<ipython-input-107-61c5b202a588>\"\u001b[0;36m, line \u001b[0;32m1\u001b[0m\n\u001b[0;31m    Name.\u001b[0m\n\u001b[0m         ^\u001b[0m\n\u001b[0;31mSyntaxError\u001b[0m\u001b[0;31m:\u001b[0m invalid syntax\n"
     ]
    }
   ],
   "source": [
    "Name."
   ]
  },
  {
   "cell_type": "code",
   "execution_count": 108,
   "metadata": {},
   "outputs": [
    {
     "data": {
      "text/plain": [
       "float"
      ]
     },
     "execution_count": 108,
     "metadata": {},
     "output_type": "execute_result"
    }
   ],
   "source": [
    "# floating point numbers (decimals)\n",
    "type(3.14)"
   ]
  },
  {
   "cell_type": "code",
   "execution_count": 109,
   "metadata": {},
   "outputs": [
    {
     "data": {
      "text/plain": [
       "int"
      ]
     },
     "execution_count": 109,
     "metadata": {},
     "output_type": "execute_result"
    }
   ],
   "source": [
    "# integers (positive and negative whole numbers including zero)\n",
    "type(5)"
   ]
  },
  {
   "cell_type": "code",
   "execution_count": 110,
   "metadata": {},
   "outputs": [
    {
     "data": {
      "text/plain": [
       "bool"
      ]
     },
     "execution_count": 110,
     "metadata": {},
     "output_type": "execute_result"
    }
   ],
   "source": [
    "# boolean True and False logical values\n",
    "type(True)"
   ]
  },
  {
   "cell_type": "markdown",
   "metadata": {},
   "source": [
    "# Challenge 2\n",
    "\n",
    "Why does the following code produce an error?"
   ]
  },
  {
   "cell_type": "code",
   "execution_count": 111,
   "metadata": {},
   "outputs": [
    {
     "ename": "SyntaxError",
     "evalue": "EOL while scanning string literal (<ipython-input-111-1de2ea13ff3e>, line 1)",
     "output_type": "error",
     "traceback": [
      "\u001b[0;36m  File \u001b[0;32m\"<ipython-input-111-1de2ea13ff3e>\"\u001b[0;36m, line \u001b[0;32m1\u001b[0m\n\u001b[0;31m    print(\"Hello World!')\u001b[0m\n\u001b[0m                         ^\u001b[0m\n\u001b[0;31mSyntaxError\u001b[0m\u001b[0;31m:\u001b[0m EOL while scanning string literal\n"
     ]
    }
   ],
   "source": [
    "print(\"Hello World!')"
   ]
  },
  {
   "cell_type": "markdown",
   "metadata": {},
   "source": [
    "And this one?"
   ]
  },
  {
   "cell_type": "code",
   "execution_count": 112,
   "metadata": {},
   "outputs": [
    {
     "ename": "TypeError",
     "evalue": "must be str, not int",
     "output_type": "error",
     "traceback": [
      "\u001b[0;31m---------------------------------------------------------------------------\u001b[0m",
      "\u001b[0;31mTypeError\u001b[0m                                 Traceback (most recent call last)",
      "\u001b[0;32m<ipython-input-112-776e9ff35f77>\u001b[0m in \u001b[0;36m<module>\u001b[0;34m()\u001b[0m\n\u001b[0;32m----> 1\u001b[0;31m \u001b[0mprint\u001b[0m\u001b[0;34m(\u001b[0m\u001b[0;34m\"I am \"\u001b[0m \u001b[0;34m+\u001b[0m \u001b[0;36m27\u001b[0m \u001b[0;34m+\u001b[0m \u001b[0;34m\" years old.\"\u001b[0m\u001b[0;34m)\u001b[0m\u001b[0;34m\u001b[0m\u001b[0m\n\u001b[0m\u001b[1;32m      2\u001b[0m \u001b[0;34m\u001b[0m\u001b[0m\n\u001b[1;32m      3\u001b[0m \u001b[0;31m# hint: read the error message for some helpful information!\u001b[0m\u001b[0;34m\u001b[0m\u001b[0;34m\u001b[0m\u001b[0m\n",
      "\u001b[0;31mTypeError\u001b[0m: must be str, not int"
     ]
    }
   ],
   "source": [
    "print(\"I am \" + 27 + \" years old.\")\n",
    "\n",
    "# hint: read the error message for some helpful information!"
   ]
  },
  {
   "cell_type": "markdown",
   "metadata": {},
   "source": [
    "# Data type conversion\n",
    "\n",
    "Converting data types is also very important. In the second part of Challenge 2 above, the integer 27 is unacceptable because it needs to first be coerced (\"changed\") to string type. After we go through the cells below, return to the problem above and fix the error message by converting 27 to a string. \n",
    "\n",
    "Let's see what happens when we try to convert the following values:"
   ]
  },
  {
   "cell_type": "code",
   "execution_count": 114,
   "metadata": {},
   "outputs": [
    {
     "name": "stdout",
     "output_type": "stream",
     "text": [
      "Isabel Allende\n",
      "27\n",
      "Lansing\n"
     ]
    }
   ],
   "source": [
    "print(Name)\n",
    "print(Age)\n",
    "print(City)"
   ]
  },
  {
   "cell_type": "code",
   "execution_count": 115,
   "metadata": {},
   "outputs": [
    {
     "name": "stdout",
     "output_type": "stream",
     "text": [
      "27\n",
      "<class 'str'>\n"
     ]
    }
   ],
   "source": [
    "# convert Age to a string using `str`!\n",
    "Age_str = str(Age)\n",
    "print(Age_str)\n",
    "print(type(Age_str))"
   ]
  },
  {
   "cell_type": "code",
   "execution_count": 116,
   "metadata": {},
   "outputs": [
    {
     "name": "stdout",
     "output_type": "stream",
     "text": [
      "27.0\n",
      "<class 'float'>\n"
     ]
    }
   ],
   "source": [
    "# convert Age to a float\n",
    "Age_float = float(Age)\n",
    "print(Age_float)\n",
    "print(type(Age_float))"
   ]
  },
  {
   "cell_type": "code",
   "execution_count": 117,
   "metadata": {
    "scrolled": true
   },
   "outputs": [
    {
     "name": "stdout",
     "output_type": "stream",
     "text": [
      "1\n",
      "0\n",
      "<class 'int'>\n"
     ]
    }
   ],
   "source": [
    "# convert bool to an integer\n",
    "bool_int_T = int(True)\n",
    "bool_int_F = int(False)\n",
    "print(bool_int_T)\n",
    "print(bool_int_F)\n",
    "print(type(bool_int_T))"
   ]
  },
  {
   "cell_type": "code",
   "execution_count": 118,
   "metadata": {},
   "outputs": [
    {
     "ename": "ValueError",
     "evalue": "invalid literal for int() with base 10: 'Isabel Allende'",
     "output_type": "error",
     "traceback": [
      "\u001b[0;31m---------------------------------------------------------------------------\u001b[0m",
      "\u001b[0;31mValueError\u001b[0m                                Traceback (most recent call last)",
      "\u001b[0;32m<ipython-input-118-b629ee21a8f6>\u001b[0m in \u001b[0;36m<module>\u001b[0;34m()\u001b[0m\n\u001b[1;32m      1\u001b[0m \u001b[0;31m# convert a string to an integer! (what happened?)\u001b[0m\u001b[0;34m\u001b[0m\u001b[0;34m\u001b[0m\u001b[0m\n\u001b[0;32m----> 2\u001b[0;31m \u001b[0mstr_int\u001b[0m \u001b[0;34m=\u001b[0m \u001b[0mint\u001b[0m\u001b[0;34m(\u001b[0m\u001b[0mName\u001b[0m\u001b[0;34m)\u001b[0m\u001b[0;34m\u001b[0m\u001b[0m\n\u001b[0m\u001b[1;32m      3\u001b[0m \u001b[0mprint\u001b[0m\u001b[0;34m(\u001b[0m\u001b[0mstr_int\u001b[0m\u001b[0;34m)\u001b[0m\u001b[0;34m\u001b[0m\u001b[0m\n",
      "\u001b[0;31mValueError\u001b[0m: invalid literal for int() with base 10: 'Isabel Allende'"
     ]
    }
   ],
   "source": [
    "# convert a string to an integer! (what happened?)\n",
    "str_int = int(Name)\n",
    "print(str_int)"
   ]
  },
  {
   "cell_type": "markdown",
   "metadata": {},
   "source": [
    "# Challenge 3\n",
    "\n",
    "Remember that the order in which you program your code affects how it is output. Without running any code, what is the output of the print statement below?"
   ]
  },
  {
   "cell_type": "code",
   "execution_count": 119,
   "metadata": {},
   "outputs": [
    {
     "name": "stdout",
     "output_type": "stream",
     "text": [
      "left of center\n"
     ]
    }
   ],
   "source": [
    "initial = \"left\"  \n",
    "position = initial + \" \" + \"of\" + \" \" + \"center\"\n",
    "initial = \"right\" + \"center\"\n",
    "print(position)  "
   ]
  },
  {
   "cell_type": "markdown",
   "metadata": {},
   "source": [
    "# Indexing\n",
    "\n",
    "In Python programming, order matters (note: dictionaries are the main exception). This allows us to reference certain parts of a piece of data by its position, or index. \n",
    "\n",
    "Use bracket notation `[:]` to tell Python what parts of a piece of data (which \"slice\") you want. The number to the left side of the colon is the start point and the number to the right is the _excluded end point_"
   ]
  },
  {
   "cell_type": "code",
   "execution_count": 120,
   "metadata": {},
   "outputs": [
    {
     "name": "stdout",
     "output_type": "stream",
     "text": [
      "Isabel Allende\n"
     ]
    }
   ],
   "source": [
    "Name = \"Isabel Allende\"\n",
    "print(Name)"
   ]
  },
  {
   "cell_type": "markdown",
   "metadata": {},
   "source": [
    "What if we just want to index the third letter?"
   ]
  },
  {
   "cell_type": "code",
   "execution_count": 121,
   "metadata": {},
   "outputs": [
    {
     "data": {
      "text/plain": [
       "'a'"
      ]
     },
     "execution_count": 121,
     "metadata": {},
     "output_type": "execute_result"
    }
   ],
   "source": [
    "Name[2]\n",
    "\n",
    "# wait, the number 2 gets us the third letter?"
   ]
  },
  {
   "cell_type": "markdown",
   "metadata": {},
   "source": [
    "What if we just want the first name? We can use the character positions to reference only the first _five_ characters:"
   ]
  },
  {
   "cell_type": "code",
   "execution_count": 122,
   "metadata": {},
   "outputs": [
    {
     "name": "stdout",
     "output_type": "stream",
     "text": [
      "Isabel\n"
     ]
    }
   ],
   "source": [
    "first_name = Name[0:6]\n",
    "print(first_name)"
   ]
  },
  {
   "cell_type": "markdown",
   "metadata": {},
   "source": [
    "**Whoa!** _What is happening here?!_ Note that the letter \"I\" is indexed by the 0th position! "
   ]
  },
  {
   "cell_type": "code",
   "execution_count": 123,
   "metadata": {},
   "outputs": [
    {
     "data": {
      "text/plain": [
       "'I'"
      ]
     },
     "execution_count": 123,
     "metadata": {},
     "output_type": "execute_result"
    }
   ],
   "source": [
    "Name[0]"
   ]
  },
  {
   "cell_type": "markdown",
   "metadata": {},
   "source": [
    "This is because you do not have to move at all to reference the first letter - you are already at the first character! \n",
    "\n",
    "Thus, Python is said to be a **_zero-indexed language_** - the first element in a string or a list is the 0th element. "
   ]
  },
  {
   "cell_type": "code",
   "execution_count": 125,
   "metadata": {},
   "outputs": [
    {
     "name": "stdout",
     "output_type": "stream",
     "text": [
      "Isabel \n"
     ]
    }
   ],
   "source": [
    "# how about this - what changed compared to Name[0:6]?\n",
    "first_name = Name[:7]\n",
    "print(first_name)"
   ]
  },
  {
   "cell_type": "code",
   "execution_count": 126,
   "metadata": {},
   "outputs": [
    {
     "name": "stdout",
     "output_type": "stream",
     "text": [
      "Iae led\n"
     ]
    }
   ],
   "source": [
    "# You can also go every second character (\"stride\")!\n",
    "stride_name = Name[::2]\n",
    "print(stride_name)"
   ]
  },
  {
   "cell_type": "code",
   "execution_count": 127,
   "metadata": {
    "scrolled": true
   },
   "outputs": [
    {
     "name": "stdout",
     "output_type": "stream",
     "text": [
      "Ib ld\n"
     ]
    }
   ],
   "source": [
    "# ... or every third!\n",
    "stride_name2 = Name[::3]\n",
    "print(stride_name2)"
   ]
  },
  {
   "cell_type": "markdown",
   "metadata": {},
   "source": [
    "# Challenge 4\n",
    "\n",
    "Save the title of your favorite movie inside of a variable named \"movie\". \n",
    "\n",
    "1. Index just the first letter.  \n",
    "2. Index only the fourth letter.  \n",
    "3. Index the first two letters.  \n",
    "4. Index the last three letters (hint: use the `len` function to find out how many characters are in the title of your movie)"
   ]
  },
  {
   "cell_type": "code",
   "execution_count": 145,
   "metadata": {},
   "outputs": [],
   "source": [
    "## YOUR CODE HERE"
   ]
  },
  {
   "cell_type": "markdown",
   "metadata": {},
   "source": [
    "# Data structures\n",
    "\n",
    "Although storing single numbers and names within variables is OK, we often want to store more than one thing! In reality, we will eventually want to store large amounts of complex data within single variables. Data often take the following structures in Python. \n",
    "\n",
    "1. Strings\n",
    "2. Lists\n",
    "3. Arrays\n",
    "4. Dictionaries\n",
    "5. Tuples\n",
    "\n",
    "You've seen a little about how strings work and we will focus on them in later notebooks. However, it is important to spend some time covering lists and arrays. \n",
    "\n",
    "Dictionaries are also important, as they _contain unordered key/value pairs_ as are tuples (immutable lists), but more on these later. "
   ]
  },
  {
   "cell_type": "markdown",
   "metadata": {
    "scrolled": true
   },
   "source": [
    "### Lists\n",
    "Lists are useful when you want to store more than one thing inside of a variable! These values can be of different data types. \n",
    "\n",
    "Make a list by separating values by commas within brackets.  \n",
    "\n",
    "Add your favorite food to the end of your Name, Age, and City. Thus, your list should have four elements:"
   ]
  },
  {
   "cell_type": "code",
   "execution_count": 104,
   "metadata": {},
   "outputs": [
    {
     "name": "stdout",
     "output_type": "stream",
     "text": [
      "['Isabel Allende', 27, 'Lansing', 'Sushi']\n"
     ]
    }
   ],
   "source": [
    "my_list = [Name, Age, City, \"Sushi\"]\n",
    "print(my_list)"
   ]
  },
  {
   "cell_type": "markdown",
   "metadata": {
    "scrolled": true
   },
   "source": [
    "**NOTE**: lists have methods that are called by typing a period after the name of your variable!\n",
    "\n",
    "Now, add your major using the `.append` method:"
   ]
  },
  {
   "cell_type": "code",
   "execution_count": 17,
   "metadata": {},
   "outputs": [
    {
     "name": "stdout",
     "output_type": "stream",
     "text": [
      "['Evan', 27, 'Lansing', 'Sushi', 'Anthropology']\n"
     ]
    }
   ],
   "source": [
    "my_list2 = my_list.append(\"Anthropology\")\n",
    "print(my_list)"
   ]
  },
  {
   "cell_type": "markdown",
   "metadata": {},
   "source": [
    "### Arrays\n",
    "Arrays are used when data are of the same type!"
   ]
  },
  {
   "cell_type": "code",
   "execution_count": 133,
   "metadata": {},
   "outputs": [
    {
     "name": "stdout",
     "output_type": "stream",
     "text": [
      "[5, 6, 7, 8]\n"
     ]
    }
   ],
   "source": [
    "my_array = [5,6,7,8]\n",
    "print(my_array)"
   ]
  },
  {
   "cell_type": "markdown",
   "metadata": {
    "collapsed": true
   },
   "source": [
    "### Dictionaries\n",
    "Dictionaries contain unordered key/value pairs. "
   ]
  },
  {
   "cell_type": "code",
   "execution_count": 146,
   "metadata": {},
   "outputs": [
    {
     "name": "stdout",
     "output_type": "stream",
     "text": [
      "{'Name': 'Evan', 'Age': 27, 'City': 'Lansing', 'Favorite food': 'Sushi', 'Major': 'Anthropology', 'Hungry': True}\n"
     ]
    }
   ],
   "source": [
    "my_dictionary = {\"Name\": \"Evan\", \n",
    "                 \"Age\":27, \n",
    "                 \"City\": \"Lansing\", \n",
    "                 \"Favorite food\": \"Sushi\",\n",
    "                 \"Major\": \"Anthropology\",\n",
    "                 \"Hungry\": True\n",
    "                }\n",
    "print(my_dictionary)"
   ]
  },
  {
   "cell_type": "markdown",
   "metadata": {
    "collapsed": true
   },
   "source": [
    "So, if I just want to see the Favorite food from this dictionary, I can type: "
   ]
  },
  {
   "cell_type": "code",
   "execution_count": 151,
   "metadata": {},
   "outputs": [
    {
     "data": {
      "text/plain": [
       "'Sushi'"
      ]
     },
     "execution_count": 151,
     "metadata": {},
     "output_type": "execute_result"
    }
   ],
   "source": [
    "my_dictionary[\"Favorite food\"]"
   ]
  },
  {
   "cell_type": "markdown",
   "metadata": {},
   "source": [
    "### Tuples\n",
    "Tuples are similar to lists and arrays, but they are unchangeable (\"immutable\"). \n",
    "\n",
    "For example, we cannot change the output of 10 (the dividend) divided by 3 (the divisor) - by definition the quotient is 3 and the remainder is 1. "
   ]
  },
  {
   "cell_type": "code",
   "execution_count": 154,
   "metadata": {
    "scrolled": true
   },
   "outputs": [
    {
     "name": "stdout",
     "output_type": "stream",
     "text": [
      "(3, 1)\n",
      "<class 'tuple'>\n"
     ]
    }
   ],
   "source": [
    "div = divmod(10,3)\n",
    "print(div)\n",
    "print(type(div))"
   ]
  },
  {
   "cell_type": "markdown",
   "metadata": {},
   "source": [
    "# Logical operators"
   ]
  },
  {
   "cell_type": "code",
   "execution_count": 156,
   "metadata": {},
   "outputs": [
    {
     "data": {
      "text/plain": [
       "False"
      ]
     },
     "execution_count": 156,
     "metadata": {},
     "output_type": "execute_result"
    }
   ],
   "source": [
    "# == (is equal to )\n",
    "5 == 6"
   ]
  },
  {
   "cell_type": "code",
   "execution_count": 157,
   "metadata": {},
   "outputs": [
    {
     "name": "stdout",
     "output_type": "stream",
     "text": [
      "True\n",
      "False\n",
      "True\n",
      "False\n"
     ]
    }
   ],
   "source": [
    "# >, <, >=, <= (greater than/less than, equal to)\n",
    "print(3 < 5)\n",
    "print(3 > 5)\n",
    "print(4 >= 4)\n",
    "print(5 <= 4)"
   ]
  },
  {
   "cell_type": "code",
   "execution_count": 158,
   "metadata": {},
   "outputs": [
    {
     "data": {
      "text/plain": [
       "True"
      ]
     },
     "execution_count": 158,
     "metadata": {},
     "output_type": "execute_result"
    }
   ],
   "source": [
    "# != (not equal to)\n",
    "5 != 4"
   ]
  },
  {
   "cell_type": "markdown",
   "metadata": {},
   "source": [
    "# Challenge 5\n",
    "\n",
    "Syntax is very important to programming. Computers expect us to enter input in a highly specified way. \n",
    "\n",
    "Why does the following code fail? What is it probably supposed to do, and what is it actually doing?"
   ]
  },
  {
   "cell_type": "code",
   "execution_count": 134,
   "metadata": {},
   "outputs": [
    {
     "ename": "NameError",
     "evalue": "name 'age' is not defined",
     "output_type": "error",
     "traceback": [
      "\u001b[0;31m---------------------------------------------------------------------------\u001b[0m",
      "\u001b[0;31mNameError\u001b[0m                                 Traceback (most recent call last)",
      "\u001b[0;32m<ipython-input-134-ed8dd83e0300>\u001b[0m in \u001b[0;36m<module>\u001b[0;34m()\u001b[0m\n\u001b[0;32m----> 1\u001b[0;31m \u001b[0mage\u001b[0m \u001b[0;34m==\u001b[0m \u001b[0;36m31\u001b[0m\u001b[0;34m\u001b[0m\u001b[0m\n\u001b[0m",
      "\u001b[0;31mNameError\u001b[0m: name 'age' is not defined"
     ]
    }
   ],
   "source": [
    "age == 31"
   ]
  },
  {
   "cell_type": "markdown",
   "metadata": {},
   "source": [
    "and"
   ]
  },
  {
   "cell_type": "code",
   "execution_count": null,
   "metadata": {
    "collapsed": true
   },
   "outputs": [],
   "source": [
    "31 = age"
   ]
  }
 ],
 "metadata": {
  "kernelspec": {
   "display_name": "Python 3",
   "language": "python",
   "name": "python3"
  },
  "language_info": {
   "codemirror_mode": {
    "name": "ipython",
    "version": 3
   },
   "file_extension": ".py",
   "mimetype": "text/x-python",
   "name": "python",
   "nbconvert_exporter": "python",
   "pygments_lexer": "ipython3",
   "version": "3.6.3"
  }
 },
 "nbformat": 4,
 "nbformat_minor": 2
}
