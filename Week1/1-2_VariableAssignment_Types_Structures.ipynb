{
 "cells": [
  {
   "cell_type": "markdown",
   "metadata": {},
   "source": [
    "# Variable assignment\n",
    "\n",
    "As briefly explained in the last notebook, you will often want to save data as variables. Variables are named data obects that allow you to save data inside of Python's memory. They are case sensitive and should ideally contain a brief description of their contents. They are case sensitive and should not begin with a number or a symbol.\n",
    "\n",
    "Names should be **unique**. If you reuse an old name, its definition will be overwritten!  \n",
    "\n",
    "Keep in mind this three-piece recipe: \n",
    "\n",
    "* The **variable name** goes on the _LEFT SIDE_\n",
    "* The **equals sign** `=` goes in the _MIDDLE_\n",
    "* The variable's **definition** goes on the _RIGHT SIDE_\n",
    "\n",
    "**HINT**: You also learned that text data should always be wrapped in quotations (single? double?)\n",
    "\n",
    "We want to save data inside of variables in Python because we can then manipulate those variables to perform complex tasks!\n",
    "\n",
    "We also want to utilize a few built-in functions to figure out the data \n",
    "\n",
    "- The `pwd` function will show you the file pate to your working directory (more on this in Week2).  \n",
    "- `ls` returns the contents of your working directory.  \n",
    "- `del` deletes a single variable.  \n",
    "- `%who` will show you variables you have defined in your global environment."
   ]
  },
  {
   "cell_type": "code",
   "execution_count": null,
   "metadata": {
    "collapsed": true
   },
   "outputs": [],
   "source": [
    "pwd"
   ]
  },
  {
   "cell_type": "code",
   "execution_count": null,
   "metadata": {
    "collapsed": true,
    "scrolled": true
   },
   "outputs": [],
   "source": [
    "ls"
   ]
  },
  {
   "cell_type": "code",
   "execution_count": null,
   "metadata": {
    "collapsed": true
   },
   "outputs": [],
   "source": [
    "%who"
   ]
  },
  {
   "cell_type": "code",
   "execution_count": null,
   "metadata": {
    "collapsed": true
   },
   "outputs": [],
   "source": [
    "del(variable_name) # no variables to delete! "
   ]
  },
  {
   "cell_type": "markdown",
   "metadata": {},
   "source": [
    "# Challenge 1\n",
    "1. Define a variable named Name that stores your name.  \n",
    "2. Define a variable named Age that stores your age.  \n",
    "3. Define a variable named City that stores your hometown.  "
   ]
  },
  {
   "cell_type": "code",
   "execution_count": null,
   "metadata": {
    "collapsed": true
   },
   "outputs": [],
   "source": [
    "## YOUR CODE HERE"
   ]
  },
  {
   "cell_type": "markdown",
   "metadata": {},
   "source": [
    "Read and run the cell below to see how we can combine different values in expressions:"
   ]
  },
  {
   "cell_type": "code",
   "execution_count": null,
   "metadata": {
    "collapsed": true
   },
   "outputs": [],
   "source": [
    "# 4. What is the function in the below line of code? How many arguments are there? (hint: they are separated by commas)\n",
    "print(Name, \"is\", Age, \"years old\", \"and is from \", City + \".\")"
   ]
  },
  {
   "cell_type": "code",
   "execution_count": null,
   "metadata": {
    "collapsed": true
   },
   "outputs": [],
   "source": [
    "# 5. Why does the following line of code return an error message? \n",
    "# hint: this is actually a super helpful error message!\n",
    "# What is Samantha? Why is it \"not defined\"?\n",
    "Name = Samantha"
   ]
  },
  {
   "cell_type": "markdown",
   "metadata": {},
   "source": [
    "# Data types\n",
    "\n",
    "So far we have seen a few examples with floats, integers, strings, and logical types. The type of data is important because **types control what operations can be done on values**!\n",
    "\n",
    "We can use the `type` function to check the type/class of some data!"
   ]
  },
  {
   "cell_type": "code",
   "execution_count": null,
   "metadata": {
    "collapsed": true
   },
   "outputs": [],
   "source": [
    "# string data (character/text data)\n",
    "type(Name)"
   ]
  },
  {
   "cell_type": "markdown",
   "metadata": {},
   "source": [
    "We will discuss this more in a later notebook, but know that strings have methods that can be accessed by typing a period after the name of your string variable. \n",
    "\n",
    "Type Name. and then press the tab key so that the list of methods appears. What do you think \".upper\" will do? Try it! "
   ]
  },
  {
   "cell_type": "code",
   "execution_count": null,
   "metadata": {
    "collapsed": true
   },
   "outputs": [],
   "source": [
    "Name."
   ]
  },
  {
   "cell_type": "code",
   "execution_count": null,
   "metadata": {
    "collapsed": true
   },
   "outputs": [],
   "source": [
    "# floating point numbers (decimals)\n",
    "type(3.14)"
   ]
  },
  {
   "cell_type": "code",
   "execution_count": null,
   "metadata": {
    "collapsed": true
   },
   "outputs": [],
   "source": [
    "# integers (positive and negative whole numbers including zero)\n",
    "type(5)"
   ]
  },
  {
   "cell_type": "code",
   "execution_count": null,
   "metadata": {
    "collapsed": true
   },
   "outputs": [],
   "source": [
    "# boolean True and False logical values\n",
    "type(True)"
   ]
  },
  {
   "cell_type": "markdown",
   "metadata": {},
   "source": [
    "# Getting help\n",
    "\n",
    "To get help for a method, type `help(object_name.method_name)`. \n",
    "\n",
    "For example, if I want to get help with `.upper`, type: "
   ]
  },
  {
   "cell_type": "code",
   "execution_count": null,
   "metadata": {
    "collapsed": true
   },
   "outputs": [],
   "source": [
    "help(Name.upper)"
   ]
  },
  {
   "cell_type": "markdown",
   "metadata": {},
   "source": [
    "Alternatively, you can type a question mark after a built-in function to see its help page:"
   ]
  },
  {
   "cell_type": "code",
   "execution_count": 1,
   "metadata": {
    "collapsed": true
   },
   "outputs": [],
   "source": [
    "sum?"
   ]
  },
  {
   "cell_type": "markdown",
   "metadata": {},
   "source": [
    "# Challenge 2\n",
    "\n",
    "Why does the following code produce an error?"
   ]
  },
  {
   "cell_type": "code",
   "execution_count": null,
   "metadata": {
    "collapsed": true
   },
   "outputs": [],
   "source": [
    "print(\"Hello World!')\n",
    "\n",
    "# this error message is pretty vague..."
   ]
  },
  {
   "cell_type": "markdown",
   "metadata": {},
   "source": [
    "And this one?"
   ]
  },
  {
   "cell_type": "code",
   "execution_count": null,
   "metadata": {
    "collapsed": true
   },
   "outputs": [],
   "source": [
    "print(\"I am \" + 27 + \" years old.\")\n",
    "\n",
    "# this error message is actually pretty helpful! "
   ]
  },
  {
   "cell_type": "markdown",
   "metadata": {},
   "source": [
    "# Data type conversion\n",
    "\n",
    "Converting data types is also very important. In the second part of Challenge 2 above, the integer 27 breaks the code because it needs to first be converted (\"coerced\") to string type. \n",
    "\n",
    "After we go through the cells below, return to the problem above and fix the error message by converting 27 to a string. Also, can you think of any other ways besides plus symbols to fix this code? \n",
    "\n",
    "Let's see what happens when we try to convert the following values:"
   ]
  },
  {
   "cell_type": "code",
   "execution_count": null,
   "metadata": {
    "collapsed": true
   },
   "outputs": [],
   "source": [
    "print(Name)\n",
    "print(Age)\n",
    "print(City)"
   ]
  },
  {
   "cell_type": "code",
   "execution_count": null,
   "metadata": {
    "collapsed": true
   },
   "outputs": [],
   "source": [
    "# convert Age to a string using `str`!\n",
    "Age_str = str(Age)\n",
    "print(Age_str)\n",
    "print(type(Age_str))"
   ]
  },
  {
   "cell_type": "code",
   "execution_count": null,
   "metadata": {
    "collapsed": true
   },
   "outputs": [],
   "source": [
    "# convert the integer Age to a float\n",
    "print(type(Age))\n",
    "Age_float = float(Age)\n",
    "print(Age_float)\n",
    "print(type(Age_float))"
   ]
  },
  {
   "cell_type": "code",
   "execution_count": null,
   "metadata": {
    "collapsed": true,
    "scrolled": true
   },
   "outputs": [],
   "source": [
    "# convert boolean True and False to integers\n",
    "print(type(True))\n",
    "print(type(False))\n",
    "\n",
    "bool_int_T = int(True)\n",
    "bool_int_F = int(False)\n",
    "\n",
    "print(bool_int_T)\n",
    "print(bool_int_F)\n",
    "print(type(bool_int_T))\n",
    "print(type(bool_int_F))"
   ]
  },
  {
   "cell_type": "code",
   "execution_count": null,
   "metadata": {
    "collapsed": true
   },
   "outputs": [],
   "source": [
    "# convert a string to an integer! (what happened?)\n",
    "str_int = int(Name)\n",
    "print(str_int)"
   ]
  },
  {
   "cell_type": "markdown",
   "metadata": {},
   "source": [
    "# Challenge 3\n",
    "\n",
    "Remember that the order in which you program your code affects how it is output. Without running any code, what is the output of the print statement below?"
   ]
  },
  {
   "cell_type": "code",
   "execution_count": null,
   "metadata": {
    "collapsed": true
   },
   "outputs": [],
   "source": [
    "initial = \"left\"  \n",
    "position = initial + \" \" + \"of\" + \" \" + \"center\"\n",
    "initial = \"right\" + \"center\"\n",
    "print(position)  "
   ]
  },
  {
   "cell_type": "markdown",
   "metadata": {},
   "source": [
    "# Indexing\n",
    "\n",
    "In Python programming, order matters (note: dictionaries are the main exception). This allows us to reference certain parts of a piece of data by its position, or index. \n",
    "\n",
    "Use bracket notation `[ : ]` to tell Python what parts of a piece of data (which \"slice\") you want. The number to the left side of the colon is the start point and the number to the right is the _excluded end point_. "
   ]
  },
  {
   "cell_type": "code",
   "execution_count": null,
   "metadata": {
    "collapsed": true
   },
   "outputs": [],
   "source": [
    "Name2 = \"Isabel Allende\"\n",
    "print(Name2)"
   ]
  },
  {
   "cell_type": "markdown",
   "metadata": {},
   "source": [
    "What if we just want to index the third letter?"
   ]
  },
  {
   "cell_type": "code",
   "execution_count": null,
   "metadata": {
    "collapsed": true
   },
   "outputs": [],
   "source": [
    "Name2[2]\n",
    "\n",
    "# wait, the number 2 gets us the third letter?"
   ]
  },
  {
   "cell_type": "markdown",
   "metadata": {},
   "source": [
    "What if we just want the first name? We can use the character positions to reference only the first _five_ characters:"
   ]
  },
  {
   "cell_type": "code",
   "execution_count": null,
   "metadata": {
    "collapsed": true
   },
   "outputs": [],
   "source": [
    "first_name = Name2[0:6]\n",
    "print(first_name)"
   ]
  },
  {
   "cell_type": "markdown",
   "metadata": {},
   "source": [
    "**Whoa!** _What is happening here?!_ Note that the letter \"I\" is indexed by the 0th position! "
   ]
  },
  {
   "cell_type": "code",
   "execution_count": null,
   "metadata": {
    "collapsed": true
   },
   "outputs": [],
   "source": [
    "Name2[0]"
   ]
  },
  {
   "cell_type": "markdown",
   "metadata": {},
   "source": [
    "This is because you do not have to move at all to reference the first letter - you are already at the first character! \n",
    "\n",
    "Thus, Python is said to be a **_zero-indexed language_** - the first element in a string or a list is the 0th element. "
   ]
  },
  {
   "cell_type": "code",
   "execution_count": null,
   "metadata": {
    "collapsed": true
   },
   "outputs": [],
   "source": [
    "# how about this - what changed compared to Name[0:6]?\n",
    "first_name = Name2[:7]\n",
    "print(first_name)"
   ]
  },
  {
   "cell_type": "code",
   "execution_count": null,
   "metadata": {
    "collapsed": true
   },
   "outputs": [],
   "source": [
    "# You can also go every second character (\"stride\")!\n",
    "stride_name = Name2[::2]\n",
    "print(stride_name)"
   ]
  },
  {
   "cell_type": "code",
   "execution_count": null,
   "metadata": {
    "collapsed": true,
    "scrolled": true
   },
   "outputs": [],
   "source": [
    "# ... or every third!\n",
    "stride_name2 = Name2[::3]\n",
    "print(stride_name2)"
   ]
  },
  {
   "cell_type": "markdown",
   "metadata": {},
   "source": [
    "# Challenge 4\n",
    "\n",
    "Save the title of your favorite movie inside of a variable named \"movie\". \n",
    "\n",
    "1. Index just the first letter.  \n",
    "2. Index only the fourth letter.  \n",
    "3. Index the first two letters.  \n",
    "4. Index the last three letters (hint: use the `len` function to find out how many characters are in the title of your movie)\n",
    "5. Using your intuition, can you guess how to backwards stride?"
   ]
  },
  {
   "cell_type": "code",
   "execution_count": null,
   "metadata": {
    "collapsed": true
   },
   "outputs": [],
   "source": [
    "## YOUR CODE HERE"
   ]
  },
  {
   "cell_type": "markdown",
   "metadata": {},
   "source": [
    "# Data structures\n",
    "\n",
    "Although storing single numbers and names within variables is fine, we often want to store more than one thing! In reality, we will eventually want to store large amounts of complex data within single variables. These data are generally organized into the following structures in Python. \n",
    "\n",
    "1. Strings\n",
    "2. Lists\n",
    "3. Arrays\n",
    "4. Dictionaries\n",
    "5. Tuples\n",
    "\n",
    "You've seen a little about how strings work (recall that they have \"methods\") and we will focus on them in later notebooks. However, it is important to spend some time covering lists and arrays. \n",
    "\n",
    "Dictionaries are also important, as they _contain unordered key/value pairs_ as are tuples (immutable lists), but more on these later. "
   ]
  },
  {
   "cell_type": "markdown",
   "metadata": {
    "scrolled": true
   },
   "source": [
    "### Lists\n",
    "Lists are useful when you want to store more than one thing inside of a variable. These values can be of different data types. \n",
    "\n",
    "Make a list by separating values by commas within brackets.  \n",
    "\n",
    "Add your favorite food to the end of your Name, Age, and City. Thus, your list should have four elements:"
   ]
  },
  {
   "cell_type": "code",
   "execution_count": null,
   "metadata": {
    "collapsed": true
   },
   "outputs": [],
   "source": [
    "my_list = [Name, Age, City, \"Sushi\"]\n",
    "print(my_list)"
   ]
  },
  {
   "cell_type": "markdown",
   "metadata": {
    "scrolled": true
   },
   "source": [
    "**NOTE**: like strings, lists have methods that are also called by typing a period after the name of your variable!\n",
    "\n",
    "Now, add your major using the `.append` method:"
   ]
  },
  {
   "cell_type": "code",
   "execution_count": null,
   "metadata": {
    "collapsed": true
   },
   "outputs": [],
   "source": [
    "my_list2 = my_list.append(\"Anthropology\")\n",
    "print(my_list)"
   ]
  },
  {
   "cell_type": "markdown",
   "metadata": {},
   "source": [
    "# Challenge 5\n",
    "1. Using what you know about indexing single values, how do you overwrite your favorite food with your favorite beverage?"
   ]
  },
  {
   "cell_type": "code",
   "execution_count": null,
   "metadata": {
    "collapsed": true
   },
   "outputs": [],
   "source": [
    "## YOUR CODE HERE"
   ]
  },
  {
   "cell_type": "markdown",
   "metadata": {},
   "source": [
    "### Arrays\n",
    "\n",
    "Lists are called arrays when they are of the same type! Arrays are preferred to lists when handling large amounts of data because they are computationally more efficient."
   ]
  },
  {
   "cell_type": "code",
   "execution_count": null,
   "metadata": {
    "collapsed": true
   },
   "outputs": [],
   "source": [
    "import numpy as np"
   ]
  },
  {
   "cell_type": "code",
   "execution_count": null,
   "metadata": {
    "collapsed": true
   },
   "outputs": [],
   "source": [
    "my_array = np.array([4,5,6])\n",
    "\n",
    "print(my_array)\n",
    "print(type(my_array))"
   ]
  },
  {
   "cell_type": "code",
   "execution_count": null,
   "metadata": {
    "collapsed": true
   },
   "outputs": [],
   "source": [
    "number_range = np.arange(14,29)\n",
    "print(number_range)"
   ]
  },
  {
   "cell_type": "markdown",
   "metadata": {
    "collapsed": true
   },
   "source": [
    "### Dictionaries\n",
    "Dictionaries contain unordered key/value pairs. "
   ]
  },
  {
   "cell_type": "code",
   "execution_count": null,
   "metadata": {
    "collapsed": true
   },
   "outputs": [],
   "source": [
    "my_dictionary = {\"Name\": \"Evan\", \n",
    "                 \"Age\":27, \n",
    "                 \"City\": \"Lansing\", \n",
    "                 \"Favorite food\": \"Sushi\",\n",
    "                 \"Major\": \"Anthropology\",\n",
    "                 \"Hungry\": True, \n",
    "                 \"Height\": 1.88\n",
    "                }\n",
    "print(my_dictionary)"
   ]
  },
  {
   "cell_type": "markdown",
   "metadata": {
    "collapsed": true
   },
   "source": [
    "So, if I just want to see the Favorite food from this dictionary, I can type: "
   ]
  },
  {
   "cell_type": "code",
   "execution_count": null,
   "metadata": {
    "collapsed": true
   },
   "outputs": [],
   "source": [
    "my_dictionary[\"Favorite food\"]"
   ]
  },
  {
   "cell_type": "code",
   "execution_count": null,
   "metadata": {
    "collapsed": true
   },
   "outputs": [],
   "source": [
    "my_dictionary[\"Height\"]"
   ]
  },
  {
   "cell_type": "markdown",
   "metadata": {},
   "source": [
    "### Tuples\n",
    "Tuples are similar to lists and arrays, but they are unchangeable (\"immutable\"). \n",
    "\n",
    "For example, we cannot change the output of 10 (the dividend) divided by 3 (the divisor) - by definition the quotient is 3 and the remainder is 1. "
   ]
  },
  {
   "cell_type": "code",
   "execution_count": null,
   "metadata": {
    "collapsed": true,
    "scrolled": true
   },
   "outputs": [],
   "source": [
    "div = divmod(10,3)\n",
    "print(div)\n",
    "print(type(div))"
   ]
  },
  {
   "cell_type": "markdown",
   "metadata": {},
   "source": [
    "# Logical operators\n",
    "\n",
    "Logical operators help us make comparisons between things! Are two things equal/equivalent? Is one thing larger or smaller than another thing? "
   ]
  },
  {
   "cell_type": "code",
   "execution_count": null,
   "metadata": {
    "collapsed": true
   },
   "outputs": [],
   "source": [
    "# == (is equal to)\n",
    "5 == 6"
   ]
  },
  {
   "cell_type": "code",
   "execution_count": null,
   "metadata": {
    "collapsed": true
   },
   "outputs": [],
   "source": [
    "# >, <, >=, <= (greater than/less than, equal to)\n",
    "print(3 < 5)\n",
    "print(3 > 5)\n",
    "print(4 >= 4)\n",
    "print(5 <= 4)"
   ]
  },
  {
   "cell_type": "code",
   "execution_count": null,
   "metadata": {
    "collapsed": true
   },
   "outputs": [],
   "source": [
    "# != (not equal to)\n",
    "5 != 4"
   ]
  },
  {
   "cell_type": "markdown",
   "metadata": {},
   "source": [
    "# Challenge 5\n",
    "\n",
    "Syntax is very important to programming. Computers expect us to enter input in a highly specified way. \n",
    "\n",
    "Why does the following code fail? What is it probably supposed to do, and what is it actually doing?"
   ]
  },
  {
   "cell_type": "code",
   "execution_count": null,
   "metadata": {
    "collapsed": true
   },
   "outputs": [],
   "source": [
    "age == 31"
   ]
  },
  {
   "cell_type": "markdown",
   "metadata": {},
   "source": [
    "and"
   ]
  },
  {
   "cell_type": "code",
   "execution_count": null,
   "metadata": {
    "collapsed": true
   },
   "outputs": [],
   "source": [
    "31 = age"
   ]
  },
  {
   "cell_type": "code",
   "execution_count": null,
   "metadata": {
    "collapsed": true
   },
   "outputs": [],
   "source": []
  }
 ],
 "metadata": {
  "kernelspec": {
   "display_name": "Python 3",
   "language": "python",
   "name": "python3"
  },
  "language_info": {
   "codemirror_mode": {
    "name": "ipython",
    "version": 3
   },
   "file_extension": ".py",
   "mimetype": "text/x-python",
   "name": "python",
   "nbconvert_exporter": "python",
   "pygments_lexer": "ipython3",
   "version": "3.6.3"
  }
 },
 "nbformat": 4,
 "nbformat_minor": 2
}
