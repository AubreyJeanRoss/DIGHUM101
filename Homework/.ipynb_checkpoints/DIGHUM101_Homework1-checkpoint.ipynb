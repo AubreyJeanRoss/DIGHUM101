{
 "cells": [
  {
   "cell_type": "markdown",
   "metadata": {},
   "source": [
    "# DIGHUM101-Homework1\n",
    "Assigned:  \n",
    "Due: \n",
    "\n",
    "Description: gain extra practice working with data in Python for the following topics:\n",
    "- Var ass (10 q)\n",
    "- Table() (10 q)\n",
    "- Plotting()  (10 q)\n",
    "- Strings  (10 q)\n",
    "- Built-ins   (10 q)"
   ]
  },
  {
   "cell_type": "code",
   "execution_count": null,
   "metadata": {
    "collapsed": true
   },
   "outputs": [],
   "source": [
    "# var assignment, lists, arrays, dictionaries  10"
   ]
  },
  {
   "cell_type": "code",
   "execution_count": null,
   "metadata": {
    "collapsed": true
   },
   "outputs": [],
   "source": [
    "#Table()          10"
   ]
  },
  {
   "cell_type": "code",
   "execution_count": null,
   "metadata": {
    "collapsed": true
   },
   "outputs": [],
   "source": []
  },
  {
   "cell_type": "code",
   "execution_count": null,
   "metadata": {
    "collapsed": true
   },
   "outputs": [],
   "source": [
    "# plots         10"
   ]
  },
  {
   "cell_type": "code",
   "execution_count": null,
   "metadata": {
    "collapsed": true
   },
   "outputs": [],
   "source": []
  },
  {
   "cell_type": "code",
   "execution_count": null,
   "metadata": {
    "collapsed": true
   },
   "outputs": [],
   "source": [
    "# strings; count vec ; tfidf vec            10"
   ]
  },
  {
   "cell_type": "code",
   "execution_count": null,
   "metadata": {
    "collapsed": true
   },
   "outputs": [],
   "source": []
  },
  {
   "cell_type": "code",
   "execution_count": null,
   "metadata": {
    "collapsed": true
   },
   "outputs": [],
   "source": [
    "# built-ins      10"
   ]
  },
  {
   "cell_type": "code",
   "execution_count": null,
   "metadata": {
    "collapsed": true
   },
   "outputs": [],
   "source": [
    "############ Jupiter Notebook basics\n",
    "\n",
    "\n",
    "1. Describes the steps to launch a Jupiter Notebook?\n",
    "\n",
    "2. Describe how you add and delete cells. \n",
    "\n",
    "3. Describe how to convert code cells to markdown cells and back and forth? \n",
    "\n",
    "4. Describe how to restart your kernel and clear your output. \n",
    "\n",
    "5. What does the `%history` function do?\n",
    "\n",
    "6. Where should you click if you need help? (hint: there are two correct answers!)\n",
    "\n",
    "7. Describe how you properly quit a Jupiter Notebook.\n",
    "\n",
    "############ Variable assignment and data types\n",
    "\n",
    "8. Define a string variable named my_string and print its output.\n",
    "\n",
    "9. Define a second string variable also named my_string and print its output. \n",
    "\n",
    "10. Describe what happened to the definition of the original my_string?\n",
    "\n",
    "11. Define two float variables.\n",
    "\n",
    "12. Define two integer variables. \n",
    "\n",
    "13. Sum your two float variables and divide them by the sum of the two integer variables. Call this variable “division”. What is the class of “division”?. \n",
    "\n",
    "14. Convert "
   ]
  }
 ],
 "metadata": {
  "kernelspec": {
   "display_name": "Python 3",
   "language": "python",
   "name": "python3"
  },
  "language_info": {
   "codemirror_mode": {
    "name": "ipython",
    "version": 3
   },
   "file_extension": ".py",
   "mimetype": "text/x-python",
   "name": "python",
   "nbconvert_exporter": "python",
   "pygments_lexer": "ipython3",
   "version": "3.6.3"
  }
 },
 "nbformat": 4,
 "nbformat_minor": 2
}
